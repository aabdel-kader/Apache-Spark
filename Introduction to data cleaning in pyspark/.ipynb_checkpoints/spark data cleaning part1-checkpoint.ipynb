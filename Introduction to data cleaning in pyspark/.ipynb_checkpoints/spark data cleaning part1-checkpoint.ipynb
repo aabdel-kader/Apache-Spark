{
 "cells": [
  {
   "cell_type": "code",
   "execution_count": 1,
   "id": "0c4fb61a",
   "metadata": {},
   "outputs": [
    {
     "data": {
      "application/javascript": [
       "\n",
       "            setTimeout(function() {\n",
       "                var nbb_cell_id = 1;\n",
       "                var nbb_unformatted_code = \"%load_ext nb_black\";\n",
       "                var nbb_formatted_code = \"%load_ext nb_black\";\n",
       "                var nbb_cells = Jupyter.notebook.get_cells();\n",
       "                for (var i = 0; i < nbb_cells.length; ++i) {\n",
       "                    if (nbb_cells[i].input_prompt_number == nbb_cell_id) {\n",
       "                        if (nbb_cells[i].get_text() == nbb_unformatted_code) {\n",
       "                             nbb_cells[i].set_text(nbb_formatted_code);\n",
       "                        }\n",
       "                        break;\n",
       "                    }\n",
       "                }\n",
       "            }, 500);\n",
       "            "
      ],
      "text/plain": [
       "<IPython.core.display.Javascript object>"
      ]
     },
     "metadata": {},
     "output_type": "display_data"
    }
   ],
   "source": [
    "%load_ext nb_black"
   ]
  },
  {
   "cell_type": "code",
   "execution_count": 2,
   "id": "2b3effd9",
   "metadata": {},
   "outputs": [
    {
     "data": {
      "application/javascript": [
       "\n",
       "            setTimeout(function() {\n",
       "                var nbb_cell_id = 2;\n",
       "                var nbb_unformatted_code = \"import findspark\\nfindspark.init()\";\n",
       "                var nbb_formatted_code = \"import findspark\\n\\nfindspark.init()\";\n",
       "                var nbb_cells = Jupyter.notebook.get_cells();\n",
       "                for (var i = 0; i < nbb_cells.length; ++i) {\n",
       "                    if (nbb_cells[i].input_prompt_number == nbb_cell_id) {\n",
       "                        if (nbb_cells[i].get_text() == nbb_unformatted_code) {\n",
       "                             nbb_cells[i].set_text(nbb_formatted_code);\n",
       "                        }\n",
       "                        break;\n",
       "                    }\n",
       "                }\n",
       "            }, 500);\n",
       "            "
      ],
      "text/plain": [
       "<IPython.core.display.Javascript object>"
      ]
     },
     "metadata": {},
     "output_type": "display_data"
    }
   ],
   "source": [
    "import findspark\n",
    "\n",
    "findspark.init()"
   ]
  },
  {
   "cell_type": "code",
   "execution_count": 63,
   "id": "4c5a78f4",
   "metadata": {},
   "outputs": [
    {
     "name": "stdout",
     "output_type": "stream",
     "text": [
      "<pyspark.sql.session.SparkSession object at 0x000001DD8CEDEF10>\n"
     ]
    },
    {
     "data": {
      "application/javascript": [
       "\n",
       "            setTimeout(function() {\n",
       "                var nbb_cell_id = 63;\n",
       "                var nbb_unformatted_code = \"from pyspark.sql import SparkSession\\nfrom pyspark.sql.functions import *\\nfrom pyspark.sql.types import *\\n\\nspark = SparkSession.builder.getOrCreate()\\nprint(spark)\";\n",
       "                var nbb_formatted_code = \"from pyspark.sql import SparkSession\\nfrom pyspark.sql.functions import *\\nfrom pyspark.sql.types import *\\n\\nspark = SparkSession.builder.getOrCreate()\\nprint(spark)\";\n",
       "                var nbb_cells = Jupyter.notebook.get_cells();\n",
       "                for (var i = 0; i < nbb_cells.length; ++i) {\n",
       "                    if (nbb_cells[i].input_prompt_number == nbb_cell_id) {\n",
       "                        if (nbb_cells[i].get_text() == nbb_unformatted_code) {\n",
       "                             nbb_cells[i].set_text(nbb_formatted_code);\n",
       "                        }\n",
       "                        break;\n",
       "                    }\n",
       "                }\n",
       "            }, 500);\n",
       "            "
      ],
      "text/plain": [
       "<IPython.core.display.Javascript object>"
      ]
     },
     "metadata": {},
     "output_type": "display_data"
    }
   ],
   "source": [
    "from pyspark.sql import SparkSession\n",
    "from pyspark.sql.functions import *\n",
    "from pyspark.sql.types import *\n",
    "\n",
    "spark = SparkSession.builder.getOrCreate()\n",
    "print(spark)"
   ]
  },
  {
   "cell_type": "markdown",
   "id": "83a0f693",
   "metadata": {},
   "source": [
    "### Read DallasCouncilVotes.csv file"
   ]
  },
  {
   "cell_type": "markdown",
   "id": "0bd29c62",
   "metadata": {},
   "source": [
    "This file contains information regarding the voters on the Dallas City Council from the past few years. This truncated DataFrame contains the date of the vote being cast and the name and position of the voter."
   ]
  },
  {
   "cell_type": "code",
   "execution_count": 75,
   "id": "b70345cb",
   "metadata": {},
   "outputs": [
    {
     "name": "stdout",
     "output_type": "stream",
     "text": [
      "root\n",
      " |-- DATE: string (nullable = true)\n",
      " |-- AGENDA_ITEM_NUMBER: string (nullable = true)\n",
      " |-- ITEM_TYPE: string (nullable = true)\n",
      " |-- DISTRICT: string (nullable = true)\n",
      " |-- TITLE: string (nullable = true)\n",
      " |-- VOTER NAME: string (nullable = true)\n",
      " |-- VOTE CAST: string (nullable = true)\n",
      " |-- FINAL ACTION TAKEN: string (nullable = true)\n",
      " |-- AGENDA ITEM DESCRIPTION: string (nullable = true)\n",
      " |-- AGENDA_ID: string (nullable = true)\n",
      " |-- VOTE_ID: string (nullable = true)\n",
      "\n"
     ]
    },
    {
     "data": {
      "application/javascript": [
       "\n",
       "            setTimeout(function() {\n",
       "                var nbb_cell_id = 75;\n",
       "                var nbb_unformatted_code = \"voter_full_df = spark.read.csv(\\n    \\\"datasets/DallasCouncilVotes_full.csv\\\", header=True, inferSchema=True\\n)\\nvoter_full_df.printSchema()\";\n",
       "                var nbb_formatted_code = \"voter_full_df = spark.read.csv(\\n    \\\"datasets/DallasCouncilVotes_full.csv\\\", header=True, inferSchema=True\\n)\\nvoter_full_df.printSchema()\";\n",
       "                var nbb_cells = Jupyter.notebook.get_cells();\n",
       "                for (var i = 0; i < nbb_cells.length; ++i) {\n",
       "                    if (nbb_cells[i].input_prompt_number == nbb_cell_id) {\n",
       "                        if (nbb_cells[i].get_text() == nbb_unformatted_code) {\n",
       "                             nbb_cells[i].set_text(nbb_formatted_code);\n",
       "                        }\n",
       "                        break;\n",
       "                    }\n",
       "                }\n",
       "            }, 500);\n",
       "            "
      ],
      "text/plain": [
       "<IPython.core.display.Javascript object>"
      ]
     },
     "metadata": {},
     "output_type": "display_data"
    }
   ],
   "source": [
    "voter_full_df = spark.read.csv(\n",
    "    \"datasets/DallasCouncilVotes_full.csv\", header=True, inferSchema=True\n",
    ")\n",
    "voter_full_df.printSchema()"
   ]
  },
  {
   "cell_type": "markdown",
   "id": "926e07cf",
   "metadata": {},
   "source": [
    "### Filtering column content with Python\n",
    "for \"VOTER NAME\" column, filter out any rows that didn't conform to something generally resembling a name."
   ]
  },
  {
   "cell_type": "code",
   "execution_count": 44,
   "id": "d4097c05",
   "metadata": {},
   "outputs": [
    {
     "name": "stdout",
     "output_type": "stream",
     "text": [
      "+-------------------------------------------------------------------------------------------------------------------------------------------------------------------------------------------------------------------------------------------------------------------------------------------------------------------------------------------------------------------------------------------------------------+\n",
      "|VOTER_NAME                                                                                                                                                                                                                                                                                                                                                                                                   |\n",
      "+-------------------------------------------------------------------------------------------------------------------------------------------------------------------------------------------------------------------------------------------------------------------------------------------------------------------------------------------------------------------------------------------------------------+\n",
      "|Tennell Atkins                                                                                                                                                                                                                                                                                                                                                                                               |\n",
      "|  the  final   2018 Assessment Plan and the 2018 Assessment  Roll  (to  be  kept  on  file  with  the  City  Secretary);  establishing  classifications  for   the   apportionment   of   costs and the methods of assessing special assessments for the services and improvements to property in the District;  closing  the  hearing  and  levying  a  special  assessment  on  property  in  the  District|\n",
      "|Scott Griggs                                                                                                                                                                                                                                                                                                                                                                                                 |\n",
      "|Scott  Griggs                                                                                                                                                                                                                                                                                                                                                                                                |\n",
      "|Sandy Greyson                                                                                                                                                                                                                                                                                                                                                                                                |\n",
      "|Michael S. Rawlings                                                                                                                                                                                                                                                                                                                                                                                          |\n",
      "| the final 2018 Assessment Plan and the 2018 Assessment  Roll  (to  be  kept  on  file  with  the  City  Secretary);  establishing  classifications  for  the   apportionment   of   costs and  the  methods  of  assessing  special  assessments  on  Dallas  hotels  with    100 or more rooms                                                                                                             |\n",
      "|Kevin Felder                                                                                                                                                                                                                                                                                                                                                                                                 |\n",
      "|Adam Medrano                                                                                                                                                                                                                                                                                                                                                                                                 |\n",
      "|null                                                                                                                                                                                                                                                                                                                                                                                                         |\n",
      "+-------------------------------------------------------------------------------------------------------------------------------------------------------------------------------------------------------------------------------------------------------------------------------------------------------------------------------------------------------------------------------------------------------------+\n",
      "only showing top 10 rows\n",
      "\n",
      "+-------------------+\n",
      "|VOTER_NAME         |\n",
      "+-------------------+\n",
      "|Tennell Atkins     |\n",
      "|Scott Griggs       |\n",
      "|Scott  Griggs      |\n",
      "|Sandy Greyson      |\n",
      "|Michael S. Rawlings|\n",
      "|Kevin Felder       |\n",
      "|Adam Medrano       |\n",
      "|Casey Thomas, II   |\n",
      "|Mark  Clayton      |\n",
      "|Casey  Thomas, II  |\n",
      "+-------------------+\n",
      "only showing top 10 rows\n",
      "\n"
     ]
    },
    {
     "data": {
      "application/javascript": [
       "\n",
       "            setTimeout(function() {\n",
       "                var nbb_cell_id = 44;\n",
       "                var nbb_unformatted_code = \"# Rename \\\"VOTER NAME\\\" column\\nvoter_full_df = voter_full_df.withColumnRenamed(\\\"VOTER NAME\\\", \\\"VOTER_NAME\\\")\\n\\n# Show the distinct VOTER_NAME entries\\nvoter_full_df.select(voter_full_df[\\\"VOTER_NAME\\\"]).distinct().show(10, truncate=False)\\n\\n# Filter voter_df where the VOTER_NAME is 1-20 characters in length\\nvoter_full_df = voter_full_df.filter(\\\"length(VOTER_NAME) > 0 and length(VOTER_NAME) < 20\\\")\\n\\n# Filter out voter_df where the VOTER_NAME contains an underscore\\nvoter_full_df = voter_full_df.filter(~F.col(\\\"VOTER_NAME\\\").contains(\\\"_\\\"))\\n\\n# Show the distinct VOTER_NAME entries again\\nvoter_full_df.select(\\\"VOTER_NAME\\\").distinct().show(10, truncate=False)\";\n",
       "                var nbb_formatted_code = \"# Rename \\\"VOTER NAME\\\" column\\nvoter_full_df = voter_full_df.withColumnRenamed(\\\"VOTER NAME\\\", \\\"VOTER_NAME\\\")\\n\\n# Show the distinct VOTER_NAME entries\\nvoter_full_df.select(voter_full_df[\\\"VOTER_NAME\\\"]).distinct().show(10, truncate=False)\\n\\n# Filter voter_df where the VOTER_NAME is 1-20 characters in length\\nvoter_full_df = voter_full_df.filter(\\n    \\\"length(VOTER_NAME) > 0 and length(VOTER_NAME) < 20\\\"\\n)\\n\\n# Filter out voter_df where the VOTER_NAME contains an underscore\\nvoter_full_df = voter_full_df.filter(~F.col(\\\"VOTER_NAME\\\").contains(\\\"_\\\"))\\n\\n# Show the distinct VOTER_NAME entries again\\nvoter_full_df.select(\\\"VOTER_NAME\\\").distinct().show(10, truncate=False)\";\n",
       "                var nbb_cells = Jupyter.notebook.get_cells();\n",
       "                for (var i = 0; i < nbb_cells.length; ++i) {\n",
       "                    if (nbb_cells[i].input_prompt_number == nbb_cell_id) {\n",
       "                        if (nbb_cells[i].get_text() == nbb_unformatted_code) {\n",
       "                             nbb_cells[i].set_text(nbb_formatted_code);\n",
       "                        }\n",
       "                        break;\n",
       "                    }\n",
       "                }\n",
       "            }, 500);\n",
       "            "
      ],
      "text/plain": [
       "<IPython.core.display.Javascript object>"
      ]
     },
     "metadata": {},
     "output_type": "display_data"
    }
   ],
   "source": [
    "# Rename \"VOTER NAME\" column\n",
    "voter_full_df = voter_full_df.withColumnRenamed(\"VOTER NAME\", \"VOTER_NAME\")\n",
    "\n",
    "# Show the distinct VOTER_NAME entries\n",
    "voter_full_df.select(voter_full_df[\"VOTER_NAME\"]).distinct().show(10, truncate=False)\n",
    "\n",
    "# Filter voter_df where the VOTER_NAME is 1-20 characters in length\n",
    "voter_full_df = voter_full_df.filter(\n",
    "    \"length(VOTER_NAME) > 0 and length(VOTER_NAME) < 20\"\n",
    ")\n",
    "\n",
    "# Filter out voter_df where the VOTER_NAME contains an underscore\n",
    "voter_full_df = voter_full_df.filter(~F.col(\"VOTER_NAME\").contains(\"_\"))\n",
    "\n",
    "# Show the distinct VOTER_NAME entries again\n",
    "voter_full_df.select(\"VOTER_NAME\").distinct().show(10, truncate=False)"
   ]
  },
  {
   "cell_type": "markdown",
   "id": "ff5edc6d",
   "metadata": {},
   "source": [
    "### Now we will work with a simpler version of the dataset"
   ]
  },
  {
   "cell_type": "code",
   "execution_count": 66,
   "id": "4315713d",
   "metadata": {},
   "outputs": [
    {
     "name": "stdout",
     "output_type": "stream",
     "text": [
      "+----------+-------------+-------------------+\n",
      "|      DATE|        TITLE|         VOTER_NAME|\n",
      "+----------+-------------+-------------------+\n",
      "|02/08/2017|Councilmember|  Jennifer S. Gates|\n",
      "|02/08/2017|Councilmember| Philip T. Kingston|\n",
      "|02/08/2017|        Mayor|Michael S. Rawlings|\n",
      "|02/08/2017|Councilmember|       Adam Medrano|\n",
      "|02/08/2017|Councilmember|       Casey Thomas|\n",
      "|02/08/2017|Councilmember|Carolyn King Arnold|\n",
      "|02/08/2017|Councilmember|       Scott Griggs|\n",
      "|02/08/2017|Councilmember|   B. Adam  McGough|\n",
      "|02/08/2017|Councilmember|       Lee Kleinman|\n",
      "|02/08/2017|Councilmember|      Sandy Greyson|\n",
      "|02/08/2017|Councilmember|  Jennifer S. Gates|\n",
      "|02/08/2017|Councilmember| Philip T. Kingston|\n",
      "|02/08/2017|        Mayor|Michael S. Rawlings|\n",
      "|02/08/2017|Councilmember|       Adam Medrano|\n",
      "|02/08/2017|Councilmember|       Casey Thomas|\n",
      "|02/08/2017|Councilmember|Carolyn King Arnold|\n",
      "|02/08/2017|Councilmember| Rickey D. Callahan|\n",
      "|01/11/2017|Councilmember|  Jennifer S. Gates|\n",
      "|04/25/2018|Councilmember|     Sandy  Greyson|\n",
      "|04/25/2018|Councilmember| Jennifer S.  Gates|\n",
      "+----------+-------------+-------------------+\n",
      "only showing top 20 rows\n",
      "\n"
     ]
    },
    {
     "data": {
      "application/javascript": [
       "\n",
       "            setTimeout(function() {\n",
       "                var nbb_cell_id = 66;\n",
       "                var nbb_unformatted_code = \"voter_df = spark.read.csv(\\n    \\\"datasets/DallasCouncilVoters_simple.csv\\\", header=True, inferSchema=True\\n)\\nvoter_df.show()\";\n",
       "                var nbb_formatted_code = \"voter_df = spark.read.csv(\\n    \\\"datasets/DallasCouncilVoters_simple.csv\\\", header=True, inferSchema=True\\n)\\nvoter_df.show()\";\n",
       "                var nbb_cells = Jupyter.notebook.get_cells();\n",
       "                for (var i = 0; i < nbb_cells.length; ++i) {\n",
       "                    if (nbb_cells[i].input_prompt_number == nbb_cell_id) {\n",
       "                        if (nbb_cells[i].get_text() == nbb_unformatted_code) {\n",
       "                             nbb_cells[i].set_text(nbb_formatted_code);\n",
       "                        }\n",
       "                        break;\n",
       "                    }\n",
       "                }\n",
       "            }, 500);\n",
       "            "
      ],
      "text/plain": [
       "<IPython.core.display.Javascript object>"
      ]
     },
     "metadata": {},
     "output_type": "display_data"
    }
   ],
   "source": [
    "voter_df = spark.read.csv(\n",
    "    \"datasets/DallasCouncilVoters_simple.csv\", header=True, inferSchema=True\n",
    ")\n",
    "voter_df.show()"
   ]
  },
  {
   "cell_type": "markdown",
   "id": "946122d0",
   "metadata": {},
   "source": [
    "#### create two new columns - first_name and last_name from \"VOTER_NAME\" column"
   ]
  },
  {
   "cell_type": "code",
   "execution_count": 67,
   "id": "063201eb",
   "metadata": {},
   "outputs": [
    {
     "name": "stdout",
     "output_type": "stream",
     "text": [
      "+----------+-------------+-------------------+--------------------+----------+---------+\n",
      "|      DATE|        TITLE|         VOTER_NAME|              splits|first_name|last_name|\n",
      "+----------+-------------+-------------------+--------------------+----------+---------+\n",
      "|02/08/2017|Councilmember|  Jennifer S. Gates|[Jennifer, S., Ga...|  Jennifer|    Gates|\n",
      "|02/08/2017|Councilmember| Philip T. Kingston|[Philip, T., King...|    Philip| Kingston|\n",
      "|02/08/2017|        Mayor|Michael S. Rawlings|[Michael, S., Raw...|   Michael| Rawlings|\n",
      "|02/08/2017|Councilmember|       Adam Medrano|     [Adam, Medrano]|      Adam|  Medrano|\n",
      "|02/08/2017|Councilmember|       Casey Thomas|     [Casey, Thomas]|     Casey|   Thomas|\n",
      "|02/08/2017|Councilmember|Carolyn King Arnold|[Carolyn, King, A...|   Carolyn|   Arnold|\n",
      "|02/08/2017|Councilmember|       Scott Griggs|     [Scott, Griggs]|     Scott|   Griggs|\n",
      "|02/08/2017|Councilmember|   B. Adam  McGough| [B., Adam, McGough]|        B.|  McGough|\n",
      "|02/08/2017|Councilmember|       Lee Kleinman|     [Lee, Kleinman]|       Lee| Kleinman|\n",
      "|02/08/2017|Councilmember|      Sandy Greyson|    [Sandy, Greyson]|     Sandy|  Greyson|\n",
      "|02/08/2017|Councilmember|  Jennifer S. Gates|[Jennifer, S., Ga...|  Jennifer|    Gates|\n",
      "|02/08/2017|Councilmember| Philip T. Kingston|[Philip, T., King...|    Philip| Kingston|\n",
      "|02/08/2017|        Mayor|Michael S. Rawlings|[Michael, S., Raw...|   Michael| Rawlings|\n",
      "|02/08/2017|Councilmember|       Adam Medrano|     [Adam, Medrano]|      Adam|  Medrano|\n",
      "|02/08/2017|Councilmember|       Casey Thomas|     [Casey, Thomas]|     Casey|   Thomas|\n",
      "|02/08/2017|Councilmember|Carolyn King Arnold|[Carolyn, King, A...|   Carolyn|   Arnold|\n",
      "|02/08/2017|Councilmember| Rickey D. Callahan|[Rickey, D., Call...|    Rickey| Callahan|\n",
      "|01/11/2017|Councilmember|  Jennifer S. Gates|[Jennifer, S., Ga...|  Jennifer|    Gates|\n",
      "|04/25/2018|Councilmember|     Sandy  Greyson|    [Sandy, Greyson]|     Sandy|  Greyson|\n",
      "|04/25/2018|Councilmember| Jennifer S.  Gates|[Jennifer, S., Ga...|  Jennifer|    Gates|\n",
      "+----------+-------------+-------------------+--------------------+----------+---------+\n",
      "only showing top 20 rows\n",
      "\n"
     ]
    },
    {
     "data": {
      "application/javascript": [
       "\n",
       "            setTimeout(function() {\n",
       "                var nbb_cell_id = 67;\n",
       "                var nbb_unformatted_code = \"# Add a new column called splits separated on whitespace\\nvoter_df = voter_df.withColumn(\\\"splits\\\", split(voter_df.VOTER_NAME, \\\"\\\\s+\\\"))\\n\\n# Create a new column called first_name based on the first item in splits\\nvoter_df = voter_df.withColumn(\\\"first_name\\\", voter_df.splits.getItem(0))\\n\\n# Get the last entry of the splits list and create a column called last_name\\nvoter_df = voter_df.withColumn(\\\"last_name\\\", voter_df.splits.getItem(size(\\\"splits\\\") - 1))\\n\\n# Show the voter_df DataFrame\\nvoter_df.show()\";\n",
       "                var nbb_formatted_code = \"# Add a new column called splits separated on whitespace\\nvoter_df = voter_df.withColumn(\\\"splits\\\", split(voter_df.VOTER_NAME, \\\"\\\\s+\\\"))\\n\\n# Create a new column called first_name based on the first item in splits\\nvoter_df = voter_df.withColumn(\\\"first_name\\\", voter_df.splits.getItem(0))\\n\\n# Get the last entry of the splits list and create a column called last_name\\nvoter_df = voter_df.withColumn(\\\"last_name\\\", voter_df.splits.getItem(size(\\\"splits\\\") - 1))\\n\\n# Show the voter_df DataFrame\\nvoter_df.show()\";\n",
       "                var nbb_cells = Jupyter.notebook.get_cells();\n",
       "                for (var i = 0; i < nbb_cells.length; ++i) {\n",
       "                    if (nbb_cells[i].input_prompt_number == nbb_cell_id) {\n",
       "                        if (nbb_cells[i].get_text() == nbb_unformatted_code) {\n",
       "                             nbb_cells[i].set_text(nbb_formatted_code);\n",
       "                        }\n",
       "                        break;\n",
       "                    }\n",
       "                }\n",
       "            }, 500);\n",
       "            "
      ],
      "text/plain": [
       "<IPython.core.display.Javascript object>"
      ]
     },
     "metadata": {},
     "output_type": "display_data"
    }
   ],
   "source": [
    "# Add a new column called splits separated on whitespace\n",
    "voter_df = voter_df.withColumn(\"splits\", split(voter_df.VOTER_NAME, \"\\s+\"))\n",
    "\n",
    "# Create a new column called first_name based on the first item in splits\n",
    "voter_df = voter_df.withColumn(\"first_name\", voter_df.splits.getItem(0))\n",
    "\n",
    "# Get the last entry of the splits list and create a column called last_name\n",
    "voter_df = voter_df.withColumn(\"last_name\", voter_df.splits.getItem(size(\"splits\") - 1))\n",
    "\n",
    "# Show the voter_df DataFrame\n",
    "voter_df.show()"
   ]
  },
  {
   "cell_type": "code",
   "execution_count": 68,
   "id": "dff140e6",
   "metadata": {},
   "outputs": [
    {
     "name": "stdout",
     "output_type": "stream",
     "text": [
      "+----------+-------------+-------------------+----------+---------+\n",
      "|      DATE|        TITLE|         VOTER_NAME|first_name|last_name|\n",
      "+----------+-------------+-------------------+----------+---------+\n",
      "|02/08/2017|Councilmember|  Jennifer S. Gates|  Jennifer|    Gates|\n",
      "|02/08/2017|Councilmember| Philip T. Kingston|    Philip| Kingston|\n",
      "|02/08/2017|        Mayor|Michael S. Rawlings|   Michael| Rawlings|\n",
      "|02/08/2017|Councilmember|       Adam Medrano|      Adam|  Medrano|\n",
      "|02/08/2017|Councilmember|       Casey Thomas|     Casey|   Thomas|\n",
      "+----------+-------------+-------------------+----------+---------+\n",
      "only showing top 5 rows\n",
      "\n"
     ]
    },
    {
     "data": {
      "application/javascript": [
       "\n",
       "            setTimeout(function() {\n",
       "                var nbb_cell_id = 68;\n",
       "                var nbb_unformatted_code = \"# Drop splits column\\nvoter_df = voter_df.drop(\\\"splits\\\")\\nvoter_df.show(5)\";\n",
       "                var nbb_formatted_code = \"# Drop splits column\\nvoter_df = voter_df.drop(\\\"splits\\\")\\nvoter_df.show(5)\";\n",
       "                var nbb_cells = Jupyter.notebook.get_cells();\n",
       "                for (var i = 0; i < nbb_cells.length; ++i) {\n",
       "                    if (nbb_cells[i].input_prompt_number == nbb_cell_id) {\n",
       "                        if (nbb_cells[i].get_text() == nbb_unformatted_code) {\n",
       "                             nbb_cells[i].set_text(nbb_formatted_code);\n",
       "                        }\n",
       "                        break;\n",
       "                    }\n",
       "                }\n",
       "            }, 500);\n",
       "            "
      ],
      "text/plain": [
       "<IPython.core.display.Javascript object>"
      ]
     },
     "metadata": {},
     "output_type": "display_data"
    }
   ],
   "source": [
    "# Drop splits column\n",
    "voter_df = voter_df.drop(\"splits\")\n",
    "voter_df.show(5)"
   ]
  },
  {
   "cell_type": "markdown",
   "id": "b0b9a442",
   "metadata": {},
   "source": [
    "### Conditional DataFrame column operations\n",
    "The when() clause lets you conditionally modify a Data Frame based on its content.\n",
    "\n",
    "When() / Otherwise()\n",
    "This requirement is similar to the last, but now you want to add multiple values based on the voter's position. \n"
   ]
  },
  {
   "cell_type": "code",
   "execution_count": 49,
   "id": "47295427",
   "metadata": {},
   "outputs": [
    {
     "name": "stdout",
     "output_type": "stream",
     "text": [
      "+-------------+------------------+\n",
      "|        TITLE|        random_val|\n",
      "+-------------+------------------+\n",
      "|Councilmember| 0.512111501243107|\n",
      "|Councilmember|0.9433473757078776|\n",
      "|        Mayor|              null|\n",
      "|Councilmember|0.8354883183823011|\n",
      "|Councilmember|0.8686131594327928|\n",
      "+-------------+------------------+\n",
      "only showing top 5 rows\n",
      "\n"
     ]
    },
    {
     "data": {
      "application/javascript": [
       "\n",
       "            setTimeout(function() {\n",
       "                var nbb_cell_id = 49;\n",
       "                var nbb_unformatted_code = \"# Add a column to voter_df for any voter with the title **Councilmember**\\nvoter_df = voter_df.withColumn(\\n    \\\"random_val\\\", F.when(voter_df.TITLE == \\\"Councilmember\\\", F.rand())\\n)\\n\\n# Show some of the DataFrame rows, noting whether the when clause worked\\nvoter_df.select(\\\"TITLE\\\", \\\"random_val\\\").show(5)\";\n",
       "                var nbb_formatted_code = \"# Add a column to voter_df for any voter with the title **Councilmember**\\nvoter_df = voter_df.withColumn(\\n    \\\"random_val\\\", F.when(voter_df.TITLE == \\\"Councilmember\\\", F.rand())\\n)\\n\\n# Show some of the DataFrame rows, noting whether the when clause worked\\nvoter_df.select(\\\"TITLE\\\", \\\"random_val\\\").show(5)\";\n",
       "                var nbb_cells = Jupyter.notebook.get_cells();\n",
       "                for (var i = 0; i < nbb_cells.length; ++i) {\n",
       "                    if (nbb_cells[i].input_prompt_number == nbb_cell_id) {\n",
       "                        if (nbb_cells[i].get_text() == nbb_unformatted_code) {\n",
       "                             nbb_cells[i].set_text(nbb_formatted_code);\n",
       "                        }\n",
       "                        break;\n",
       "                    }\n",
       "                }\n",
       "            }, 500);\n",
       "            "
      ],
      "text/plain": [
       "<IPython.core.display.Javascript object>"
      ]
     },
     "metadata": {},
     "output_type": "display_data"
    }
   ],
   "source": [
    "# Add a column to voter_df for any voter with the title **Councilmember**\n",
    "voter_df = voter_df.withColumn(\n",
    "    \"random_val\", F.when(voter_df.TITLE == \"Councilmember\", F.rand())\n",
    ")\n",
    "\n",
    "# Show some of the DataFrame rows, noting whether the when clause worked\n",
    "voter_df.select(\"TITLE\", \"random_val\").show(5)"
   ]
  },
  {
   "cell_type": "code",
   "execution_count": 50,
   "id": "6b662853",
   "metadata": {},
   "outputs": [
    {
     "name": "stdout",
     "output_type": "stream",
     "text": [
      "+-------------+-------------------+\n",
      "|        TITLE|         random_val|\n",
      "+-------------+-------------------+\n",
      "|Councilmember| 0.5004460306250009|\n",
      "|Councilmember|0.42735663133609403|\n",
      "|        Mayor|                2.0|\n",
      "|Councilmember| 0.5362454562903441|\n",
      "|Councilmember| 0.8183482521450013|\n",
      "+-------------+-------------------+\n",
      "only showing top 5 rows\n",
      "\n",
      "+--------------------+----------+\n",
      "|               TITLE|random_val|\n",
      "+--------------------+----------+\n",
      "|Deputy Mayor Pro Tem|       0.0|\n",
      "|       Mayor Pro Tem|       0.0|\n",
      "|Deputy Mayor Pro Tem|       0.0|\n",
      "|       Mayor Pro Tem|       0.0|\n",
      "|Deputy Mayor Pro Tem|       0.0|\n",
      "+--------------------+----------+\n",
      "only showing top 5 rows\n",
      "\n"
     ]
    },
    {
     "data": {
      "application/javascript": [
       "\n",
       "            setTimeout(function() {\n",
       "                var nbb_cell_id = 50;\n",
       "                var nbb_unformatted_code = \"# Add a column to voter_df for a voter based on their position\\nvoter_df = voter_df.withColumn(\\n    \\\"random_val\\\",\\n    when(voter_df.TITLE == \\\"Councilmember\\\", F.rand())\\n    .when(voter_df.TITLE == \\\"Mayor\\\", 2)\\n    .otherwise(0),\\n)\\n\\n# Show some of the DataFrame rows\\nvoter_df.select(\\\"TITLE\\\", \\\"random_val\\\").show(5)\\n\\n# Use the .filter() clause with random_val\\nvoter_df.select(\\\"TITLE\\\", \\\"random_val\\\").filter(voter_df.random_val == 0).show(5)\";\n",
       "                var nbb_formatted_code = \"# Add a column to voter_df for a voter based on their position\\nvoter_df = voter_df.withColumn(\\n    \\\"random_val\\\",\\n    when(voter_df.TITLE == \\\"Councilmember\\\", F.rand())\\n    .when(voter_df.TITLE == \\\"Mayor\\\", 2)\\n    .otherwise(0),\\n)\\n\\n# Show some of the DataFrame rows\\nvoter_df.select(\\\"TITLE\\\", \\\"random_val\\\").show(5)\\n\\n# Use the .filter() clause with random_val\\nvoter_df.select(\\\"TITLE\\\", \\\"random_val\\\").filter(voter_df.random_val == 0).show(5)\";\n",
       "                var nbb_cells = Jupyter.notebook.get_cells();\n",
       "                for (var i = 0; i < nbb_cells.length; ++i) {\n",
       "                    if (nbb_cells[i].input_prompt_number == nbb_cell_id) {\n",
       "                        if (nbb_cells[i].get_text() == nbb_unformatted_code) {\n",
       "                             nbb_cells[i].set_text(nbb_formatted_code);\n",
       "                        }\n",
       "                        break;\n",
       "                    }\n",
       "                }\n",
       "            }, 500);\n",
       "            "
      ],
      "text/plain": [
       "<IPython.core.display.Javascript object>"
      ]
     },
     "metadata": {},
     "output_type": "display_data"
    }
   ],
   "source": [
    "# Add a column to voter_df for a voter based on their position\n",
    "voter_df = voter_df.withColumn(\n",
    "    \"random_val\",\n",
    "    when(voter_df.TITLE == \"Councilmember\", F.rand())\n",
    "    .when(voter_df.TITLE == \"Mayor\", 2)\n",
    "    .otherwise(0),\n",
    ")\n",
    "\n",
    "# Show some of the DataFrame rows\n",
    "voter_df.select(\"TITLE\", \"random_val\").show(5)\n",
    "\n",
    "# Use the .filter() clause with random_val\n",
    "voter_df.select(\"TITLE\", \"random_val\").filter(voter_df.random_val == 0).show(5)"
   ]
  },
  {
   "cell_type": "code",
   "execution_count": 71,
   "id": "2bff8410",
   "metadata": {},
   "outputs": [
    {
     "name": "stdout",
     "output_type": "stream",
     "text": [
      "root\n",
      " |-- DATE: string (nullable = true)\n",
      " |-- TITLE: string (nullable = true)\n",
      " |-- VOTER_NAME: string (nullable = true)\n",
      " |-- first_name: string (nullable = true)\n",
      " |-- last_name: string (nullable = true)\n",
      "\n"
     ]
    },
    {
     "data": {
      "application/javascript": [
       "\n",
       "            setTimeout(function() {\n",
       "                var nbb_cell_id = 71;\n",
       "                var nbb_unformatted_code = \"voter_df.printSchema()\";\n",
       "                var nbb_formatted_code = \"voter_df.printSchema()\";\n",
       "                var nbb_cells = Jupyter.notebook.get_cells();\n",
       "                for (var i = 0; i < nbb_cells.length; ++i) {\n",
       "                    if (nbb_cells[i].input_prompt_number == nbb_cell_id) {\n",
       "                        if (nbb_cells[i].get_text() == nbb_unformatted_code) {\n",
       "                             nbb_cells[i].set_text(nbb_formatted_code);\n",
       "                        }\n",
       "                        break;\n",
       "                    }\n",
       "                }\n",
       "            }, 500);\n",
       "            "
      ],
      "text/plain": [
       "<IPython.core.display.Javascript object>"
      ]
     },
     "metadata": {},
     "output_type": "display_data"
    }
   ],
   "source": [
    "voter_df.printSchema()"
   ]
  },
  {
   "cell_type": "markdown",
   "id": "2064444a",
   "metadata": {},
   "source": [
    "### Adding an ID Field\n",
    "\n",
    "returning to the complete dataset\n"
   ]
  },
  {
   "cell_type": "code",
   "execution_count": 77,
   "id": "e61d5cfa",
   "metadata": {},
   "outputs": [
    {
     "name": "stdout",
     "output_type": "stream",
     "text": [
      "\n",
      "There are 36 rows in the voter_df DataFrame.\n",
      "\n",
      "+----------+--------------------+-------------------+----------+---------+------+\n",
      "|      DATE|               TITLE|         VOTER_NAME|first_name|last_name|ROW_ID|\n",
      "+----------+--------------------+-------------------+----------+---------+------+\n",
      "|11/20/2018|       Councilmember|      Mark  Clayton|      Mark|  Clayton| 44624|\n",
      "|11/20/2018|       Councilmember|     Tennell Atkins|   Tennell|   Atkins| 44623|\n",
      "|11/20/2018|       Councilmember|       Kevin Felder|     Kevin|   Felder| 44622|\n",
      "|11/20/2018|       Councilmember|       Omar Narvaez|      Omar|  Narvaez| 44621|\n",
      "|11/20/2018|       Councilmember|Rickey D.  Callahan|    Rickey| Callahan| 44620|\n",
      "|11/20/2018|              Vacant|               null|      null|     null| 44619|\n",
      "|11/20/2018|       Mayor Pro Tem|      Casey  Thomas|     Casey|   Thomas| 44618|\n",
      "|11/20/2018|Deputy Mayor Pro Tem|       Adam Medrano|      Adam|  Medrano| 44617|\n",
      "|11/20/2018|               Mayor|Michael S. Rawlings|   Michael| Rawlings| 44616|\n",
      "|11/20/2018|       Councilmember|Philip T.  Kingston|    Philip| Kingston| 44615|\n",
      "+----------+--------------------+-------------------+----------+---------+------+\n",
      "only showing top 10 rows\n",
      "\n"
     ]
    },
    {
     "data": {
      "application/javascript": [
       "\n",
       "            setTimeout(function() {\n",
       "                var nbb_cell_id = 77;\n",
       "                var nbb_unformatted_code = \"# Select all the unique council voters\\nvoter_names = voter_full_df.select(voter_full_df[\\\"VOTER NAME\\\"]).distinct()\\n\\n# Count the rows in voter_df\\nprint(\\\"\\\\nThere are %d rows in the voter_df DataFrame.\\\\n\\\" % voter_names.count())\\n\\n# Add a ROW_ID\\nvoter_names = voter_df.withColumn(\\\"ROW_ID\\\", monotonically_increasing_id())\\n\\n# Show the rows with 10 highest IDs in the set\\nvoter_names.orderBy(voter_names.ROW_ID.desc()).show(10)\";\n",
       "                var nbb_formatted_code = \"# Select all the unique council voters\\nvoter_names = voter_full_df.select(voter_full_df[\\\"VOTER NAME\\\"]).distinct()\\n\\n# Count the rows in voter_df\\nprint(\\\"\\\\nThere are %d rows in the voter_df DataFrame.\\\\n\\\" % voter_names.count())\\n\\n# Add a ROW_ID\\nvoter_names = voter_df.withColumn(\\\"ROW_ID\\\", monotonically_increasing_id())\\n\\n# Show the rows with 10 highest IDs in the set\\nvoter_names.orderBy(voter_names.ROW_ID.desc()).show(10)\";\n",
       "                var nbb_cells = Jupyter.notebook.get_cells();\n",
       "                for (var i = 0; i < nbb_cells.length; ++i) {\n",
       "                    if (nbb_cells[i].input_prompt_number == nbb_cell_id) {\n",
       "                        if (nbb_cells[i].get_text() == nbb_unformatted_code) {\n",
       "                             nbb_cells[i].set_text(nbb_formatted_code);\n",
       "                        }\n",
       "                        break;\n",
       "                    }\n",
       "                }\n",
       "            }, 500);\n",
       "            "
      ],
      "text/plain": [
       "<IPython.core.display.Javascript object>"
      ]
     },
     "metadata": {},
     "output_type": "display_data"
    }
   ],
   "source": [
    "# Select all the unique council voters\n",
    "voter_names = voter_full_df.select(voter_full_df[\"VOTER NAME\"]).distinct()\n",
    "\n",
    "# Count the rows in voter_df\n",
    "print(\"\\nThere are %d rows in the voter_df DataFrame.\\n\" % voter_names.count())\n",
    "\n",
    "# Add a ROW_ID\n",
    "voter_names = voter_df.withColumn(\"ROW_ID\", monotonically_increasing_id())\n",
    "\n",
    "# Show the rows with 10 highest IDs in the set\n",
    "voter_names.orderBy(voter_names.ROW_ID.desc()).show(10)"
   ]
  },
  {
   "cell_type": "markdown",
   "id": "63a8d777",
   "metadata": {},
   "source": [
    "### IDs with different partitions\n",
    "You've just completed adding an ID field to a DataFrame. Now, take a look at what happens when you do the same thing on DataFrames containing a different number of partitions.\n",
    "\n",
    "To check the number of partitions, use the method .rdd.getNumPartitions() on a DataFrame."
   ]
  },
  {
   "cell_type": "code",
   "execution_count": 81,
   "id": "c5f1c39d",
   "metadata": {},
   "outputs": [
    {
     "name": "stdout",
     "output_type": "stream",
     "text": [
      "\n",
      "There are 1 partitions in the voter_df DataFrame.\n",
      "\n",
      "+----------+--------------------+-------------------+----------+---------+------+\n",
      "|      DATE|               TITLE|         VOTER_NAME|first_name|last_name|ROW_ID|\n",
      "+----------+--------------------+-------------------+----------+---------+------+\n",
      "|11/20/2018|       Councilmember|      Mark  Clayton|      Mark|  Clayton| 44624|\n",
      "|11/20/2018|       Councilmember|     Tennell Atkins|   Tennell|   Atkins| 44623|\n",
      "|11/20/2018|       Councilmember|       Kevin Felder|     Kevin|   Felder| 44622|\n",
      "|11/20/2018|       Councilmember|       Omar Narvaez|      Omar|  Narvaez| 44621|\n",
      "|11/20/2018|       Councilmember|Rickey D.  Callahan|    Rickey| Callahan| 44620|\n",
      "|11/20/2018|              Vacant|               null|      null|     null| 44619|\n",
      "|11/20/2018|       Mayor Pro Tem|      Casey  Thomas|     Casey|   Thomas| 44618|\n",
      "|11/20/2018|Deputy Mayor Pro Tem|       Adam Medrano|      Adam|  Medrano| 44617|\n",
      "|11/20/2018|               Mayor|Michael S. Rawlings|   Michael| Rawlings| 44616|\n",
      "|11/20/2018|       Councilmember|Philip T.  Kingston|    Philip| Kingston| 44615|\n",
      "+----------+--------------------+-------------------+----------+---------+------+\n",
      "only showing top 10 rows\n",
      "\n"
     ]
    },
    {
     "data": {
      "application/javascript": [
       "\n",
       "            setTimeout(function() {\n",
       "                var nbb_cell_id = 81;\n",
       "                var nbb_unformatted_code = \"# Print the number of partitions in each DataFrame\\n# In this case there is only one partiotion because we are workink on the local machine\\nprint(\\n    \\\"\\\\nThere are %d partitions in the voter_df DataFrame.\\\\n\\\"\\n    % voter_df.rdd.getNumPartitions()\\n)\\n\\n# Add a ROW_ID field to each DataFrame\\nvoter_df = voter_df.withColumn(\\\"ROW_ID\\\", F.monotonically_increasing_id())\\n\\n# Show the top 10 IDs in each DataFrame\\nvoter_df.orderBy(voter_df.ROW_ID.desc()).show(10)\";\n",
       "                var nbb_formatted_code = \"# Print the number of partitions in each DataFrame\\n# In this case there is only one partiotion because we are workink on the local machine\\nprint(\\n    \\\"\\\\nThere are %d partitions in the voter_df DataFrame.\\\\n\\\"\\n    % voter_df.rdd.getNumPartitions()\\n)\\n\\n# Add a ROW_ID field to each DataFrame\\nvoter_df = voter_df.withColumn(\\\"ROW_ID\\\", F.monotonically_increasing_id())\\n\\n# Show the top 10 IDs in each DataFrame\\nvoter_df.orderBy(voter_df.ROW_ID.desc()).show(10)\";\n",
       "                var nbb_cells = Jupyter.notebook.get_cells();\n",
       "                for (var i = 0; i < nbb_cells.length; ++i) {\n",
       "                    if (nbb_cells[i].input_prompt_number == nbb_cell_id) {\n",
       "                        if (nbb_cells[i].get_text() == nbb_unformatted_code) {\n",
       "                             nbb_cells[i].set_text(nbb_formatted_code);\n",
       "                        }\n",
       "                        break;\n",
       "                    }\n",
       "                }\n",
       "            }, 500);\n",
       "            "
      ],
      "text/plain": [
       "<IPython.core.display.Javascript object>"
      ]
     },
     "metadata": {},
     "output_type": "display_data"
    }
   ],
   "source": [
    "# Print the number of partitions in each DataFrame\n",
    "# In this case there is only one partiotion because we are workink on the local machine\n",
    "print(\n",
    "    \"\\nThere are %d partitions in the voter_df DataFrame.\\n\"\n",
    "    % voter_df.rdd.getNumPartitions()\n",
    ")\n",
    "\n",
    "# Add a ROW_ID field to each DataFrame\n",
    "voter_df = voter_df.withColumn(\"ROW_ID\", F.monotonically_increasing_id())\n",
    "\n",
    "# Show the top 10 IDs in each DataFrame\n",
    "voter_df.orderBy(voter_df.ROW_ID.desc()).show(10)\n"
   ]
  },
  {
   "cell_type": "markdown",
   "id": "af9f4b23",
   "metadata": {},
   "source": [
    "### More ID tricks\n",
    "Once you define a Spark process, you'll likely want to use it many times. Depending on your needs, you may want to start your IDs at a certain value so there isn't overlap with previous runs of the Spark task. This behavior is similar to how IDs would behave in a relational database. You have been given the task to make sure that the IDs output from a monthly Spark task start at the highest value from the previous month."
   ]
  },
  {
   "cell_type": "code",
   "execution_count": null,
   "id": "b186fe38",
   "metadata": {},
   "outputs": [],
   "source": [
    "# # Determine the highest ROW_ID and save it in previous_max_ID\n",
    "# previous_max_ID = voter_df_march.select('ROW_ID').rdd.max()[0]\n",
    "\n",
    "# # Add a ROW_ID column to voter_df_april starting at the desired value\n",
    "# voter_df_april = voter_df_april.withColumn('ROW_ID', F.monotonically_increasing_id() + previous_max_ID)\n",
    "\n",
    "# # Show the ROW_ID from both DataFrames and compare\n",
    "# voter_df_march.select('ROW_ID').show()\n",
    "# voter_df_april.select('ROW_ID').show()"
   ]
  },
  {
   "cell_type": "markdown",
   "id": "cd58f806",
   "metadata": {},
   "source": []
  },
  {
   "cell_type": "code",
   "execution_count": null,
   "id": "a604a6c2",
   "metadata": {},
   "outputs": [],
   "source": []
  }
 ],
 "metadata": {
  "kernelspec": {
   "display_name": "Python 3",
   "language": "python",
   "name": "python3"
  },
  "language_info": {
   "codemirror_mode": {
    "name": "ipython",
    "version": 3
   },
   "file_extension": ".py",
   "mimetype": "text/x-python",
   "name": "python",
   "nbconvert_exporter": "python",
   "pygments_lexer": "ipython3",
   "version": "3.8.8"
  }
 },
 "nbformat": 4,
 "nbformat_minor": 5
}
